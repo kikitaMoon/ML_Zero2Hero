{
 "cells": [
  {
   "cell_type": "markdown",
   "id": "b690391f-38e1-44ab-8fbb-9ecc76f91a9c",
   "metadata": {},
   "source": [
    "# 6 Training an AI to create poetry"
   ]
  },
  {
   "cell_type": "markdown",
   "id": "55b09114-03a9-404d-ae2e-1aee905435e2",
   "metadata": {},
   "source": [
    "**Dataset**:  \".../My_Github_Repos/TensorFlow_Zero2Hero/TF_NLP_Zero2Hero/Datasets/Poetry.txt\""
   ]
  },
  {
   "cell_type": "code",
   "execution_count": 2,
   "id": "6784c2ef-7e61-42ad-82f0-dd9d6531bb7b",
   "metadata": {},
   "outputs": [
    {
     "name": "stdout",
     "output_type": "stream",
     "text": [
      "C:\\Users\\xia12237.AVWORLD\\My_Github_Repos\\TensorFlow_Zero2Hero\\TF_NLP_Zero2Hero\\Datasets\\Poetry.txt\n",
      "In the town of Athy one Jeremy Lanigan\n",
      "Battered away til he hadnt a pound.\n",
      "His father died and made him a man again\n",
      "Left him a farm and ten acres of ground.\n",
      "\n",
      "He gave a grand party for friends and relations\n",
      "Who didnt forget him when come to the wall,\n",
      "And if youll but listen IIl make your eyes glisten\n",
      "Of the rows and the ructions of Laniganâ€™s Ball.\n",
      "\n",
      "Myself to be sure got free invitation,\n",
      "For all the nice girls and boys | might ask,\n",
      "And just in a minute both friends and relations\n",
      "Were dancing round merry as bees round a cask.\n",
      "\n",
      "Judy ODaly, that nice little milliner,\n",
      "She tipped me a wink for to give her a call,\n",
      "And | soon arrived with Peggy McGilligan\n",
      "Just in time for Laniganâ€™s Ball.\n"
     ]
    }
   ],
   "source": [
    "# to load the txt file\n",
    "\n",
    "import os\n",
    "\n",
    "txtfile = os.path.join(os.getcwd() + '\\Datasets\\Poetry.txt')\n",
    "print(txtfile)\n",
    "\n",
    "fileObject = open(txtfile, \"r\")\n",
    "datastore = fileObject.read()\n",
    "    \n",
    "print(datastore)\n"
   ]
  },
  {
   "cell_type": "code",
   "execution_count": 4,
   "id": "c6be0ace-47be-461f-96e3-1eb3d5cd4d33",
   "metadata": {},
   "outputs": [
    {
     "name": "stdout",
     "output_type": "stream",
     "text": [
      "['in the town of athy one jeremy lanigan', 'battered away til he hadnt a pound.', 'his father died and made him a man again', 'left him a farm and ten acres of ground.', '', 'he gave a grand party for friends and relations', 'who didnt forget him when come to the wall,', 'and if youll but listen iil make your eyes glisten', 'of the rows and the ructions of laniganâ€™s ball.', '', 'myself to be sure got free invitation,', 'for all the nice girls and boys | might ask,', 'and just in a minute both friends and relations', 'were dancing round merry as bees round a cask.', '', 'judy odaly, that nice little milliner,', 'she tipped me a wink for to give her a call,', 'and | soon arrived with peggy mcgilligan', 'just in time for laniganâ€™s ball.']\n"
     ]
    }
   ],
   "source": [
    "#  Input data\n",
    "\n",
    "from tensorflow.keras.preprocessing.text import Tokenizer\n",
    "\n",
    "tokenizer = Tokenizer()\n",
    "\n",
    "# data = \"In the town of Athy one Jeremy Lanigan \\n Battered away ... ...\"\n",
    "corpus = datastore.lower().split(\"\\n\")\n",
    "print(corpus)\n",
    "\n",
    "tokenizer.fit_on_texts(corpus)       # corpus - 语料\n",
    "total_words = len(tokenizer.word_index) + 1"
   ]
  },
  {
   "cell_type": "code",
   "execution_count": 5,
   "id": "eec05b31-86df-48f4-b214-b3bbbff27223",
   "metadata": {},
   "outputs": [
    {
     "ename": "TypeError",
     "evalue": "'list' object is not callable",
     "output_type": "error",
     "traceback": [
      "\u001b[1;31m---------------------------------------------------------------------------\u001b[0m",
      "\u001b[1;31mTypeError\u001b[0m                                 Traceback (most recent call last)",
      "Input \u001b[1;32mIn [5]\u001b[0m, in \u001b[0;36m<cell line: 5>\u001b[1;34m()\u001b[0m\n\u001b[0;32m      3\u001b[0m input_sequences \u001b[38;5;241m=\u001b[39m []\n\u001b[0;32m      5\u001b[0m \u001b[38;5;28;01mfor\u001b[39;00m line \u001b[38;5;129;01min\u001b[39;00m corpus:\n\u001b[1;32m----> 6\u001b[0m     token_list \u001b[38;5;241m=\u001b[39m \u001b[43mtokenizer\u001b[49m\u001b[38;5;241;43m.\u001b[39;49m\u001b[43mtexts_to_sequences\u001b[49m\u001b[43m(\u001b[49m\u001b[43m[\u001b[49m\u001b[43mline\u001b[49m\u001b[43m]\u001b[49m\u001b[43m)\u001b[49m\u001b[43m(\u001b[49m\u001b[38;5;241;43m0\u001b[39;49m\u001b[43m)\u001b[49m\n\u001b[0;32m      7\u001b[0m     \u001b[38;5;28;01mfor\u001b[39;00m i \u001b[38;5;129;01min\u001b[39;00m \u001b[38;5;28mrange\u001b[39m(\u001b[38;5;241m1\u001b[39m, \u001b[38;5;28mlen\u001b[39m(token_list) ) :\n\u001b[0;32m      8\u001b[0m         n_gram_sequence \u001b[38;5;241m=\u001b[39m token_list[ :i\u001b[38;5;241m+\u001b[39m\u001b[38;5;241m1\u001b[39m]\n",
      "\u001b[1;31mTypeError\u001b[0m: 'list' object is not callable"
     ]
    }
   ],
   "source": [
    "# Text to sequence\n",
    "\n",
    "input_sequences = []\n",
    "\n",
    "for line in corpus:\n",
    "    token_list = tokenizer.texts_to_sequences([line])(0)\n",
    "    for i in range(1, len(token_list) ) :\n",
    "        n_gram_sequence = token_list[ :i+1]\n",
    "        input_sequences .append(n_gram_sequence)\n"
   ]
  },
  {
   "cell_type": "code",
   "execution_count": null,
   "id": "6f9819fd-9441-4603-90d8-ccddb522dd81",
   "metadata": {},
   "outputs": [],
   "source": [
    "# Create Model\n",
    "\n"
   ]
  },
  {
   "cell_type": "code",
   "execution_count": null,
   "id": "4b2ffa0e-683a-4bea-8f8b-52407bb74966",
   "metadata": {},
   "outputs": [],
   "source": [
    "# Predict\n"
   ]
  }
 ],
 "metadata": {
  "kernelspec": {
   "display_name": "Python 3 (ipykernel)",
   "language": "python",
   "name": "python3"
  },
  "language_info": {
   "codemirror_mode": {
    "name": "ipython",
    "version": 3
   },
   "file_extension": ".py",
   "mimetype": "text/x-python",
   "name": "python",
   "nbconvert_exporter": "python",
   "pygments_lexer": "ipython3",
   "version": "3.9.11"
  }
 },
 "nbformat": 4,
 "nbformat_minor": 5
}
