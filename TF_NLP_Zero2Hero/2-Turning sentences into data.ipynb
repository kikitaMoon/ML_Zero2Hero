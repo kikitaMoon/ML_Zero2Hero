{
 "cells": [
  {
   "cell_type": "markdown",
   "id": "4e9acb46-37dd-49f4-ab94-c90d76639f08",
   "metadata": {},
   "source": [
    "# 2 Turning sentences into data"
   ]
  },
  {
   "cell_type": "code",
   "execution_count": 2,
   "id": "82c0b87c-7d51-44b5-a734-71fca7a26f95",
   "metadata": {},
   "outputs": [],
   "source": [
    "from tensorflow.keras.preprocessing.text import Tokenizer"
   ]
  },
  {
   "cell_type": "code",
   "execution_count": 3,
   "id": "2ae1b6be-94ee-4177-8943-d9f74dc7f1a1",
   "metadata": {},
   "outputs": [],
   "source": [
    "# 1st example:\n",
    "sentences = ['I love my dog', \n",
    "             'I love my cat',\n",
    "             'You love my dog!', \n",
    "             'Do you think my dog is amazing?'\n",
    "            ]"
   ]
  },
  {
   "cell_type": "code",
   "execution_count": 7,
   "id": "608a3001-44dc-4aea-b8e8-04f550108d8f",
   "metadata": {},
   "outputs": [
    {
     "name": "stdout",
     "output_type": "stream",
     "text": [
      "{'my': 1, 'love': 2, 'dog': 3, 'i': 4, 'you': 5, 'cat': 6, 'do': 7, 'think': 8, 'is': 9, 'amazing': 10}\n",
      "[[4, 2, 1, 3], [4, 2, 1, 6], [5, 2, 1, 3], [7, 5, 8, 1, 3, 9, 10]]\n"
     ]
    }
   ],
   "source": [
    "tokenizer = Tokenizer(num_words = 100) \n",
    "tokenizer.fit_on_texts(sentences)\n",
    "word_index = tokenizer.word_index\n",
    "\n",
    "sequences = tokenizer.texts_to_sequences(sentences)\n",
    "\n",
    "\n",
    "print(word_index)   # the result is in order of frequency of words\n",
    "print(sequences)    # convert the words to index numbers"
   ]
  },
  {
   "cell_type": "code",
   "execution_count": 4,
   "id": "20db6934-9f68-4c73-84fb-cf82f12a79fb",
   "metadata": {},
   "outputs": [],
   "source": [
    "# 2nd example:\n",
    "test_data = [\n",
    "    'i really love my dog',\n",
    "    'my dog loves my manatee'\n",
    "]"
   ]
  },
  {
   "cell_type": "code",
   "execution_count": 10,
   "id": "abf4a14c-8c7d-4161-b53c-b97483f18b8a",
   "metadata": {},
   "outputs": [
    {
     "name": "stdout",
     "output_type": "stream",
     "text": [
      "[[4, 2, 1, 3], [1, 3, 1]]\n"
     ]
    }
   ],
   "source": [
    "test_seq = tokenizer.texts_to_sequences(test_data)\n",
    "print(test_seq)\n",
    "\n",
    "# we can see there are some words are missing: 'really','loves','manatee'. becuase they are not indexed. "
   ]
  },
  {
   "cell_type": "code",
   "execution_count": null,
   "id": "c95ba318-9733-48d7-a8b4-e4bd082c6829",
   "metadata": {},
   "outputs": [],
   "source": []
  }
 ],
 "metadata": {
  "kernelspec": {
   "display_name": "Python 3 (ipykernel)",
   "language": "python",
   "name": "python3"
  },
  "language_info": {
   "codemirror_mode": {
    "name": "ipython",
    "version": 3
   },
   "file_extension": ".py",
   "mimetype": "text/x-python",
   "name": "python",
   "nbconvert_exporter": "python",
   "pygments_lexer": "ipython3",
   "version": "3.9.11"
  }
 },
 "nbformat": 4,
 "nbformat_minor": 5
}
