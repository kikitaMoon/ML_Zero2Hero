{
 "cells": [
  {
   "cell_type": "markdown",
   "id": "e5f7d474-a9c0-4b7d-a5d3-5f083b007dfc",
   "metadata": {},
   "source": [
    "# 3 Training a model to recognize sentiment in text"
   ]
  },
  {
   "cell_type": "markdown",
   "id": "441f289f-c216-47f1-93dd-4f61798b9cf6",
   "metadata": {},
   "source": [
    "### **Data source**\n",
    "\n",
    "- testing dataset Instruction: https://rishabhmisra.github.io/publications/\n",
    "- Downloadable dataset on Kaggle: https://www.kaggle.com/datasets/rmisra/news-headlines-dataset-for-sarcasm-detection\n",
    "- In the workspace: `.../TensorFlow_Zero2Hero/TF_NLP_Zero2Hero/Datasets/Sarcasm_Headlines_Dataset.json`\n",
    "\n",
    "### **Data Structure**\n",
    "\n",
    "Example: \n",
    "\n",
    "```json\n",
    "{\n",
    "    \"article_link\": \"https://www.huffingtonpost.com/entry/versace-black-code_us_5861fbefe4b0de3a08f600d5\", \n",
    "    \"headline\": \"former versace store clerk sues over secret 'black code' for minority shoppers\", \n",
    "    \"is_sarcastic\": 0\n",
    "}\n",
    "```"
   ]
  },
  {
   "cell_type": "code",
   "execution_count": null,
   "id": "5612148a-63a2-4c81-948d-5cdd8138bfc7",
   "metadata": {},
   "outputs": [],
   "source": []
  }
 ],
 "metadata": {
  "kernelspec": {
   "display_name": "Python 3 (ipykernel)",
   "language": "python",
   "name": "python3"
  },
  "language_info": {
   "codemirror_mode": {
    "name": "ipython",
    "version": 3
   },
   "file_extension": ".py",
   "mimetype": "text/x-python",
   "name": "python",
   "nbconvert_exporter": "python",
   "pygments_lexer": "ipython3",
   "version": "3.9.11"
  }
 },
 "nbformat": 4,
 "nbformat_minor": 5
}
