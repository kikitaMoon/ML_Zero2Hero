{
 "cells": [
  {
   "cell_type": "markdown",
   "id": "eeeb8345-70b0-437b-8a12-605979bbdc00",
   "metadata": {},
   "source": [
    "# 1 Tokenization"
   ]
  },
  {
   "cell_type": "markdown",
   "id": "865390c7-6e17-4f0f-af77-db64f6f59966",
   "metadata": {},
   "source": [
    "it is encoding words instead of letters.\n",
    "\n",
    "**Why?**\n",
    "\n",
    "If encoding letters, different orders of letters can be different words.\n",
    "e.g. LISTEN and SILENCE\n",
    "\n",
    "BUT, using letter we can find the similarity\n"
   ]
  },
  {
   "cell_type": "code",
   "execution_count": 2,
   "id": "3f30ba0d-47e3-4071-a437-6e1e272e2a20",
   "metadata": {},
   "outputs": [],
   "source": [
    "import tensorflow as tf\n",
    "from tensorflow import keras\n",
    "from tensorflow.keras.preprocessing.text import Tokenizer"
   ]
  },
  {
   "cell_type": "code",
   "execution_count": 4,
   "id": "7bfa7805-c03c-475d-93af-54296e2d9cde",
   "metadata": {},
   "outputs": [
    {
     "name": "stdout",
     "output_type": "stream",
     "text": [
      "{'i': 1, 'love': 2, 'my': 3, 'dog': 4, 'cat': 5}\n"
     ]
    }
   ],
   "source": [
    "sentences = ['I love my dog', 'I love my cat']\n",
    "\n",
    "tokenizer = Tokenizer(num_words = 100)         # just want the most frequent 100 words in this example\n",
    "tokenizer.fit_on_texts(sentences)\n",
    "word_index = tokenizer.word_index\n",
    "print(word_index)"
   ]
  },
  {
   "cell_type": "code",
   "execution_count": 6,
   "id": "5fb85824-7d8e-4e23-8cc0-f8b700512d5c",
   "metadata": {},
   "outputs": [
    {
     "name": "stdout",
     "output_type": "stream",
     "text": [
      "{'love': 1, 'my': 2, 'i': 3, 'dog': 4, 'cat': 5, 'you': 6}\n"
     ]
    }
   ],
   "source": [
    "# to try another example\n",
    "\n",
    "sentences = ['I love my dog', \n",
    "             'I love my cat',\n",
    "             'You love my dog!',     # dog is followed by exclamation mark (!), but no new token created.\n",
    "             'you LOVE my cat?'      # it is also not case sensitive. \n",
    "            ]\n",
    "\n",
    "tokenizer = Tokenizer(num_words = 100)         # just want the most frequent 100 words in this example\n",
    "tokenizer.fit_on_texts(sentences)\n",
    "word_index = tokenizer.word_index\n",
    "print(word_index)"
   ]
  }
 ],
 "metadata": {
  "kernelspec": {
   "display_name": "Python 3 (ipykernel)",
   "language": "python",
   "name": "python3"
  },
  "language_info": {
   "codemirror_mode": {
    "name": "ipython",
    "version": 3
   },
   "file_extension": ".py",
   "mimetype": "text/x-python",
   "name": "python",
   "nbconvert_exporter": "python",
   "pygments_lexer": "ipython3",
   "version": "3.9.11"
  }
 },
 "nbformat": 4,
 "nbformat_minor": 5
}
