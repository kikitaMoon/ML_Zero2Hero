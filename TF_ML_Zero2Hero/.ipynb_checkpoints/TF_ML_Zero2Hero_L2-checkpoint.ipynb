{
 "cells": [
  {
   "cell_type": "markdown",
   "id": "1f15f2bb-1d5c-4ae9-93bc-d8bc2ed73ab9",
   "metadata": {},
   "source": [
    "# ML Zero to Hero - Lesson 2"
   ]
  },
  {
   "cell_type": "code",
   "execution_count": 1,
   "id": "b956e623-b89d-4ece-946f-8de78656c943",
   "metadata": {},
   "outputs": [],
   "source": [
    "import tensorflow as tf\n",
    "from tensorflow import keras\n",
    "import matplotlib.pyplot as plt"
   ]
  },
  {
   "cell_type": "code",
   "execution_count": 2,
   "id": "14f5f438-0571-4466-812d-eba8daf3146f",
   "metadata": {},
   "outputs": [],
   "source": [
    "# Firstly to load the data \n",
    "# Fashion MNIST is provided by Keras, here: https://keras.io/api/datasets/fashion_mnist/\n",
    "# Label is a number indicating the type of clothing\n",
    "\n",
    "fashion_mnist = keras.datasets.fashion_mnist\n",
    "(train_images, train_labels), (test_images, test_labels) = fashion_mnist.load_data()"
   ]
  },
  {
   "cell_type": "code",
   "execution_count": 3,
   "id": "5e11ca75-feb7-4bd8-a04a-349bf279e640",
   "metadata": {},
   "outputs": [],
   "source": [
    "# define model\n",
    "\n",
    "model = keras.Sequential([\n",
    "    keras.layers.Flatten(input_shape=(28, 28)),      # 28*28 size of the image in input layer\n",
    "    keras.layers.Dense(128, activation=tf.nn.relu),  # 128 neurons , relu: X>0, returnsX; X<=0, returns 0.\n",
    "    keras.layers.Dense(10,activation=tf.nn.softmax)  # the output layer is 0-9 label ,  get the max value\n",
    "])"
   ]
  },
  {
   "cell_type": "code",
   "execution_count": 4,
   "id": "fbbeb953-a5ea-4cb8-a83b-5dcf925cc0e2",
   "metadata": {},
   "outputs": [],
   "source": [
    "# construct model\n",
    "\n",
    "model.compile(optimizer=tf.optimizers.Adam(),loss='sparse_categorical_crossentropy')"
   ]
  },
  {
   "cell_type": "code",
   "execution_count": 5,
   "id": "64c5755e-c3f6-45d4-b583-4ba652a2ae33",
   "metadata": {},
   "outputs": [
    {
     "name": "stdout",
     "output_type": "stream",
     "text": [
      "Epoch 1/5\n",
      "1875/1875 [==============================] - 14s 7ms/step - loss: 2.4897\n",
      "Epoch 2/5\n",
      "1875/1875 [==============================] - 14s 7ms/step - loss: 0.7323\n",
      "Epoch 3/5\n",
      "1875/1875 [==============================] - 11s 6ms/step - loss: 0.6650\n",
      "Epoch 4/5\n",
      "1875/1875 [==============================] - 11s 6ms/step - loss: 0.6146\n",
      "Epoch 5/5\n",
      "1875/1875 [==============================] - 11s 6ms/step - loss: 0.5738\n"
     ]
    },
    {
     "data": {
      "text/plain": [
       "<keras.callbacks.History at 0x25643c91f70>"
      ]
     },
     "execution_count": 5,
     "metadata": {},
     "output_type": "execute_result"
    }
   ],
   "source": [
    "# train model\n",
    "\n",
    "model.fit(train_images, train_labels, epochs=5)"
   ]
  },
  {
   "cell_type": "code",
   "execution_count": 6,
   "id": "5cdc15a6-22ff-4caf-ae42-975850776716",
   "metadata": {},
   "outputs": [
    {
     "name": "stdout",
     "output_type": "stream",
     "text": [
      "313/313 - 2s - loss: 0.6540\n"
     ]
    }
   ],
   "source": [
    "# evaluate model\n",
    "\n",
    "test_eval = model.evaluate(test_images, test_labels, verbose=2)"
   ]
  },
  {
   "cell_type": "code",
   "execution_count": 7,
   "id": "adff0c90-ce57-42f3-a0e4-e91fe7910220",
   "metadata": {},
   "outputs": [
    {
     "name": "stdout",
     "output_type": "stream",
     "text": [
      "<class 'float'> 0.6539861559867859\n"
     ]
    }
   ],
   "source": [
    "print(type(test_eval), test_eval)"
   ]
  },
  {
   "cell_type": "code",
   "execution_count": 8,
   "id": "d8e636a3-061f-4cc5-94be-33a875d9a8e7",
   "metadata": {},
   "outputs": [
    {
     "name": "stdout",
     "output_type": "stream",
     "text": [
      "Model: \"sequential\"\n",
      "_________________________________________________________________\n",
      "Layer (type)                 Output Shape              Param #   \n",
      "=================================================================\n",
      "flatten (Flatten)            (None, 784)               0         \n",
      "_________________________________________________________________\n",
      "dense (Dense)                (None, 128)               100480    \n",
      "_________________________________________________________________\n",
      "dense_1 (Dense)              (None, 10)                1290      \n",
      "=================================================================\n",
      "Total params: 101,770\n",
      "Trainable params: 101,770\n",
      "Non-trainable params: 0\n",
      "_________________________________________________________________\n"
     ]
    }
   ],
   "source": [
    "model.summary()"
   ]
  },
  {
   "cell_type": "code",
   "execution_count": null,
   "id": "4bf1b15b-37f3-4f19-9ee5-e74ebfd15b40",
   "metadata": {},
   "outputs": [],
   "source": [
    "# check the image and select some as the testing input\n",
    "\n",
    "testing_image = train_images[0]\n",
    "testing_image_path = r'C:\\DeepLearning_Datasets\\Fashion_MNIST_sample\\image_0.png'\n",
    "# plt.imsave(fname=testing_image_path, arr=testing_image)\n",
    "plt.imshow(testing_image)"
   ]
  },
  {
   "cell_type": "code",
   "execution_count": 14,
   "id": "b89b8e02-054d-457a-b8b1-6342c34514e3",
   "metadata": {},
   "outputs": [
    {
     "data": {
      "text/plain": [
       "array([[4.7268056e-38, 6.9301843e-31, 0.0000000e+00, 1.0996862e-37,\n",
       "        0.0000000e+00, 8.9186810e-02, 0.0000000e+00, 1.3880925e-01,\n",
       "        1.7870722e-22, 7.7200395e-01]], dtype=float32)"
      ]
     },
     "execution_count": 14,
     "metadata": {},
     "output_type": "execute_result"
    }
   ],
   "source": [
    "# Predict model\n",
    "\n",
    "my_image = test_images[0:1]\n",
    "model.predict(my_image) \n"
   ]
  },
  {
   "cell_type": "code",
   "execution_count": null,
   "id": "e7585a73-5579-4db7-a8e2-d7bf13d931a3",
   "metadata": {},
   "outputs": [],
   "source": []
  }
 ],
 "metadata": {
  "kernelspec": {
   "display_name": "Python 3 (ipykernel)",
   "language": "python",
   "name": "python3"
  },
  "language_info": {
   "codemirror_mode": {
    "name": "ipython",
    "version": 3
   },
   "file_extension": ".py",
   "mimetype": "text/x-python",
   "name": "python",
   "nbconvert_exporter": "python",
   "pygments_lexer": "ipython3",
   "version": "3.9.11"
  }
 },
 "nbformat": 4,
 "nbformat_minor": 5
}
